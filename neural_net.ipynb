{
 "cells": [
  {
   "cell_type": "code",
   "execution_count": 10,
   "id": "87ad4108-a3aa-4f2a-a834-a9ad479ac441",
   "metadata": {},
   "outputs": [],
   "source": [
    "import numpy as np\n",
    "import pandas as pd\n",
    "import matplotlib.pyplot as plt"
   ]
  },
  {
   "cell_type": "markdown",
   "id": "c8940897-6207-4f5b-864b-1025acbf68d9",
   "metadata": {},
   "source": [
    "# Load dataset"
   ]
  },
  {
   "cell_type": "code",
   "execution_count": 11,
   "id": "6d0e3ba2-5599-4702-9dc9-2a63cfcf9d88",
   "metadata": {},
   "outputs": [],
   "source": [
    "dataset = pd.read_csv(\"moonDataset.csv\")\n",
    "X = dataset.iloc[:, :-1].values\n",
    "y = dataset.iloc[:, -1].values.reshape(-1, 1)"
   ]
  },
  {
   "cell_type": "markdown",
   "id": "428ad787-5c65-4a3f-9560-73199c88dab3",
   "metadata": {},
   "source": [
    "# Activation functions"
   ]
  },
  {
   "cell_type": "code",
   "execution_count": 12,
   "id": "7be5ebe8-2ceb-45c1-92be-c9dd116c9610",
   "metadata": {},
   "outputs": [],
   "source": [
    "def sigmoid(x):\n",
    "    return 1 / (1 + np.exp(-x))\n",
    "\n",
    "def sigmoid_derivative(x):\n",
    "    return sigmoid(x) * (1 - sigmoid(x))\n",
    "\n",
    "def tanh(x):\n",
    "    return (np.exp(x) - np.exp(-x)) / (np.exp(x) + np.exp(-x))\n",
    "\n",
    "def tanh_derivative(x):\n",
    "    return 1 - np.tanh(x)**2"
   ]
  },
  {
   "cell_type": "markdown",
   "id": "6ec32c57-09c0-4923-93f4-310a7fefd83a",
   "metadata": {},
   "source": [
    "# Error functions"
   ]
  },
  {
   "cell_type": "code",
   "execution_count": 13,
   "id": "e956520b-ffd3-4f71-8bdd-a25456ceab22",
   "metadata": {},
   "outputs": [],
   "source": [
    "def sq_error(target, output):\n",
    "    return (target - output) ** 2\n",
    "\n",
    "def der_sq_error(target, output):\n",
    "    return -2 * (target - output)"
   ]
  },
  {
   "cell_type": "code",
   "execution_count": 14,
   "id": "746cbe3f-ea1a-4963-8aec-6aadfd2cb8b8",
   "metadata": {},
   "outputs": [],
   "source": [
    "# Initialize weights and biases\n",
    "W1, W2, W3, W4 = 0.2, -0.3, 0.4, 0.1\n",
    "W5, W6, W7, W8 = -0.5, 0.2, -0.3, -0.2\n",
    "W9, W10, W11, W12 = 0.85, 0.44, 0.66, 0.18\n",
    "b1, b2, b3, b4 = -0.4, 0.2, 0.1, 0.9\n",
    "\n",
    "# Training parameters\n",
    "learning_rate = -0.01\n",
    "epochs = 20\n",
    "losses = []"
   ]
  },
  {
   "cell_type": "markdown",
   "id": "400100d8-3b72-47d3-b27b-49430d6b5d60",
   "metadata": {},
   "source": [
    "# Forward pass"
   ]
  },
  {
   "cell_type": "code",
   "execution_count": 15,
   "id": "fd57bbec-e52c-42af-9e9f-a077b3e4698c",
   "metadata": {},
   "outputs": [
    {
     "data": {
      "image/png": "[encoded data removed]",
      "text/plain": [
       "<Figure size 432x288 with 1 Axes>"
      ]
     },
     "metadata": {
      "needs_background": "light"
     },
     "output_type": "display_data"
    }
   ],
   "source": [
    "# Training loop\n",
    "for epoch in range(epochs):\n",
    "    epoch_loss = 0\n",
    "    for i in range(len(X)):\n",
    "        # Forward pass\n",
    "        h1_input = X[i][0] * W1 + X[i][1] * W4 + X[i][2] * W7 + b1\n",
    "        h1_output = sigmoid(h1_input)\n",
    "\n",
    "        h2_input = X[i][0] * W2 + X[i][1] * W5 + X[i][2] * W8 + b2\n",
    "        h2_output = sigmoid(h2_input)\n",
    "\n",
    "        h3_input = X[i][0] * W3 + X[i][1] * W6 + X[i][2] * W9 + b3\n",
    "        h3_output = sigmoid(h3_input)\n",
    "\n",
    "        output_layer_input = h1_output * W10 + h2_output * W11 + h3_output * W12 + b4\n",
    "        output = tanh(output_layer_input)\n",
    "\n",
    "        # Calculate loss using squared error\n",
    "        error = sq_error(y[i], output)\n",
    "        epoch_loss += error\n",
    "\n",
    "        # Backward pass\n",
    "        output_delta = der_sq_error(y[i], output) * tanh_derivative(output_layer_input)\n",
    "\n",
    "        h1_delta = output_delta * W10 * sigmoid_derivative(h1_output)\n",
    "        h2_delta = output_delta * W11 * sigmoid_derivative(h2_output)\n",
    "        h3_delta = output_delta * W12 * sigmoid_derivative(h3_output)\n",
    "\n",
    "        # Update weights and biases\n",
    "        W10 += learning_rate * output_delta * h1_output\n",
    "        W11 += learning_rate * output_delta * h2_output\n",
    "        W12 += learning_rate * output_delta * h3_output\n",
    "        b4 += learning_rate * output_delta\n",
    "\n",
    "        W1 += learning_rate * h1_delta * X[i][0]\n",
    "        W3 += learning_rate * h1_delta * X[i][1]\n",
    "        W5 += learning_rate * h1_delta * X[i][2]\n",
    "        b1 += learning_rate * h1_delta\n",
    "\n",
    "        W2 += learning_rate * h2_delta * X[i][0]\n",
    "        W4 += learning_rate * h2_delta * X[i][1]\n",
    "        W6 += learning_rate * h2_delta * X[i][2]\n",
    "        b2 += learning_rate * h2_delta\n",
    "\n",
    "        W7 += learning_rate * h3_delta * X[i][0]\n",
    "        W8 += learning_rate * h3_delta * X[i][1]\n",
    "        W9 += learning_rate * h3_delta * X[i][2]\n",
    "        b3 += learning_rate * h3_delta\n",
    "\n",
    "    # Track loss for the epoch\n",
    "    losses.append(epoch_loss)\n",
    "\n",
    "# Plot the loss\n",
    "plt.plot(range(1, epochs + 1), losses)\n",
    "plt.xlabel('Epoch')\n",
    "plt.ylabel('Error function')\n",
    "plt.title('Error vs Epochs')\n",
    "plt.show()"
   ]
  },
  {
   "cell_type": "code",
   "execution_count": null,
   "id": "a9afb970",
   "metadata": {},
   "outputs": [],
   "source": []
  }
 ],
 "metadata": {
  "kernelspec": {
   "display_name": "Python 3",
   "language": "python",
   "name": "python3"
  },
  "language_info": {
   "codemirror_mode": {
    "name": "ipython",
    "version": 3
   },
   "file_extension": ".py",
   "mimetype": "text/x-python",
   "name": "python",
   "nbconvert_exporter": "python",
   "pygments_lexer": "ipython3",
   "version": "3.8.8"
  }
 },
 "nbformat": 4,
 "nbformat_minor": 5
}
